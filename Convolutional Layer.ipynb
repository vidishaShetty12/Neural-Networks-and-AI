{
  "nbformat": 4,
  "nbformat_minor": 0,
  "metadata": {
    "colab": {
      "provenance": []
    },
    "kernelspec": {
      "name": "python3",
      "display_name": "Python 3"
    },
    "language_info": {
      "name": "python"
    }
  },
  "cells": [
    {
      "cell_type": "code",
      "execution_count": 1,
      "metadata": {
        "id": "m5Jg1S5etIuo"
      },
      "outputs": [],
      "source": [
        "import numpy as np"
      ]
    },
    {
      "cell_type": "code",
      "source": [
        "def convolve2d(image, kernel):\n",
        "    # Dimensions of the image and kernel\n",
        "    image_height, image_width = image.shape\n",
        "    kernel_height, kernel_width = kernel.shape\n",
        "\n",
        "    # Calculate the dimensions of the output image\n",
        "    output_height = image_height - kernel_height + 1\n",
        "    output_width = image_width - kernel_width + 1\n",
        "\n",
        "    # Initialize the output image with zeros\n",
        "    output = np.zeros((output_height, output_width))\n",
        "\n",
        "    # Perform convolution\n",
        "    for i in range(output_height):\n",
        "        for j in range(output_width):\n",
        "            # Extract the current region of interest from the image\n",
        "            current_region = image[i:i+kernel_height, j:j+kernel_width]\n",
        "            # Perform element-wise multiplication and sum the result\n",
        "            output[i, j] = np.sum(current_region * kernel)\n",
        "\n",
        "    return output\n"
      ],
      "metadata": {
        "id": "PttUQ72CtPUU"
      },
      "execution_count": 2,
      "outputs": []
    },
    {
      "cell_type": "code",
      "source": [
        "# Define a new original image with an edge\n",
        "original_image_with_edge = np.array([\n",
        "    [10, 10, 10, 10, 10, 10],\n",
        "    [10, 10, 10, 10, 10, 10],\n",
        "    [10, 10, 10, 0, 0, 0],\n",
        "    [10, 10, 10, 0, 0, 0],\n",
        "    [10, 10, 10, 0, 0, 0],\n",
        "    [10, 10, 10, 0, 0, 0]\n",
        "])\n",
        "\n",
        "# Define a 3x3 filter (kernel)\n",
        "kernel = np.array([\n",
        "    [0, 1, 0],\n",
        "    [1, -4, 1],\n",
        "    [0, 1, 0]\n",
        "])\n",
        "\n",
        "# Apply the convolution operation to the image with an edge\n",
        "output_image_with_edge = convolve2d(original_image_with_edge, kernel)\n",
        "\n",
        "print(\"Output Image with Edge:\")\n",
        "print(output_image_with_edge)"
      ],
      "metadata": {
        "colab": {
          "base_uri": "https://localhost:8080/"
        },
        "id": "CXXroHBmtV6Y",
        "outputId": "02aa2979-564f-4f5c-d760-6cc33b170a9c"
      },
      "execution_count": 3,
      "outputs": [
        {
          "output_type": "stream",
          "name": "stdout",
          "text": [
            "Output Image with Edge:\n",
            "[[  0.   0. -10. -10.]\n",
            " [  0. -10.  20.  10.]\n",
            " [  0. -10.  10.   0.]\n",
            " [  0. -10.  10.   0.]]\n"
          ]
        }
      ]
    }
  ]
}