{
  "nbformat": 4,
  "nbformat_minor": 0,
  "metadata": {
    "colab": {
      "provenance": []
    },
    "kernelspec": {
      "name": "python3",
      "display_name": "Python 3"
    },
    "language_info": {
      "name": "python"
    }
  },
  "cells": [
    {
      "cell_type": "code",
      "source": [
        "#import libraries\n",
        "import numpy as np\n",
        "import pandas as pd\n",
        "from sklearn import datasets\n",
        "from sklearn.model_selection import train_test_split\n",
        "from sklearn.preprocessing import StandardScaler"
      ],
      "metadata": {
        "id": "MhTGWgE76SSt"
      },
      "execution_count": 1,
      "outputs": []
    },
    {
      "cell_type": "code",
      "source": [
        "import pandas as pd\n",
        "\n",
        "url = \"https://archive.ics.uci.edu/ml/machine-learning-databases/iris/iris.data\"\n",
        "column_names = [\"sepal length\", \"sepal width\", \"petal length\", \"petal width\", \"class\"]\n",
        "df = pd.read_csv(url, names=column_names)\n",
        "\n",
        "# Display the first 5 rows of the dataframe\n",
        "print(df.head())\n"
      ],
      "metadata": {
        "colab": {
          "base_uri": "https://localhost:8080/"
        },
        "id": "3jYZ_zCx9zOt",
        "outputId": "79b05c77-ef44-4b24-b0b1-596a971c2567"
      },
      "execution_count": 2,
      "outputs": [
        {
          "output_type": "stream",
          "name": "stdout",
          "text": [
            "   sepal length  sepal width  petal length  petal width        class\n",
            "0           5.1          3.5           1.4          0.2  Iris-setosa\n",
            "1           4.9          3.0           1.4          0.2  Iris-setosa\n",
            "2           4.7          3.2           1.3          0.2  Iris-setosa\n",
            "3           4.6          3.1           1.5          0.2  Iris-setosa\n",
            "4           5.0          3.6           1.4          0.2  Iris-setosa\n"
          ]
        }
      ]
    },
    {
      "cell_type": "code",
      "source": [
        "iris=url\n"
      ],
      "metadata": {
        "id": "PnEyFGPt63JZ"
      },
      "execution_count": 3,
      "outputs": []
    },
    {
      "cell_type": "code",
      "source": [
        "# Filter the dataset to include only 'Iris-setosa' and 'Iris-versicolor'\n",
        "df_binary = df[(df['class'] == 'Iris-setosa') | (df['class'] == 'Iris-versicolor')]\n",
        "\n",
        "# Map the class labels to binary values: 'Iris-setosa' to 0 and 'Iris-versicolor' to 1\n",
        "df_binary['class'] = df_binary['class'].map({'Iris-setosa': 0, 'Iris-versicolor': 1})\n"
      ],
      "metadata": {
        "colab": {
          "base_uri": "https://localhost:8080/"
        },
        "id": "kJYVpYiN_vXs",
        "outputId": "b6123bd2-7d31-4311-abd7-b82c24c89b3e"
      },
      "execution_count": 4,
      "outputs": [
        {
          "output_type": "stream",
          "name": "stderr",
          "text": [
            "<ipython-input-4-4fa5012ef5c0>:5: SettingWithCopyWarning: \n",
            "A value is trying to be set on a copy of a slice from a DataFrame.\n",
            "Try using .loc[row_indexer,col_indexer] = value instead\n",
            "\n",
            "See the caveats in the documentation: https://pandas.pydata.org/pandas-docs/stable/user_guide/indexing.html#returning-a-view-versus-a-copy\n",
            "  df_binary['class'] = df_binary['class'].map({'Iris-setosa': 0, 'Iris-versicolor': 1})\n"
          ]
        }
      ]
    },
    {
      "cell_type": "code",
      "source": [
        "X = df_binary.drop('class', axis=1)  # This will get all the feature columns\n",
        "y = df_binary['class']               # This will get the label column\n"
      ],
      "metadata": {
        "id": "ejnDHh1LAAn0"
      },
      "execution_count": 5,
      "outputs": []
    },
    {
      "cell_type": "code",
      "source": [
        "print(X)"
      ],
      "metadata": {
        "colab": {
          "base_uri": "https://localhost:8080/"
        },
        "id": "SxCz5PFKA5iX",
        "outputId": "e7a83a00-4f1f-4c79-bf18-9cc8d3df4da4"
      },
      "execution_count": 6,
      "outputs": [
        {
          "output_type": "stream",
          "name": "stdout",
          "text": [
            "    sepal length  sepal width  petal length  petal width\n",
            "0            5.1          3.5           1.4          0.2\n",
            "1            4.9          3.0           1.4          0.2\n",
            "2            4.7          3.2           1.3          0.2\n",
            "3            4.6          3.1           1.5          0.2\n",
            "4            5.0          3.6           1.4          0.2\n",
            "..           ...          ...           ...          ...\n",
            "95           5.7          3.0           4.2          1.2\n",
            "96           5.7          2.9           4.2          1.3\n",
            "97           6.2          2.9           4.3          1.3\n",
            "98           5.1          2.5           3.0          1.1\n",
            "99           5.7          2.8           4.1          1.3\n",
            "\n",
            "[100 rows x 4 columns]\n"
          ]
        }
      ]
    },
    {
      "cell_type": "code",
      "source": [
        "print(y)"
      ],
      "metadata": {
        "colab": {
          "base_uri": "https://localhost:8080/"
        },
        "id": "1rEvaWNsBBwi",
        "outputId": "48cc043c-9b9e-4858-ae2e-c066661d3458"
      },
      "execution_count": 7,
      "outputs": [
        {
          "output_type": "stream",
          "name": "stdout",
          "text": [
            "0     0\n",
            "1     0\n",
            "2     0\n",
            "3     0\n",
            "4     0\n",
            "     ..\n",
            "95    1\n",
            "96    1\n",
            "97    1\n",
            "98    1\n",
            "99    1\n",
            "Name: class, Length: 100, dtype: int64\n"
          ]
        }
      ]
    },
    {
      "cell_type": "code",
      "source": [
        "X_train, X_test, y_train, y_test = train_test_split(X, y, test_size=0.2, random_state=42)\n"
      ],
      "metadata": {
        "id": "9ckVrM9gAFcN"
      },
      "execution_count": 8,
      "outputs": []
    },
    {
      "cell_type": "code",
      "source": [
        "scaler = StandardScaler()\n",
        "X_train_scaled = scaler.fit_transform(X_train)\n",
        "X_test_scaled = scaler.transform(X_test)\n"
      ],
      "metadata": {
        "id": "aXHxH5GsAKCU"
      },
      "execution_count": 9,
      "outputs": []
    },
    {
      "cell_type": "markdown",
      "source": [
        "**Build the Neural Network Model**"
      ],
      "metadata": {
        "id": "tDMlif2YBfHb"
      }
    },
    {
      "cell_type": "code",
      "source": [
        "import tensorflow as tf\n",
        "from tensorflow.keras.models import Sequential\n",
        "from tensorflow.keras.layers import Dense\n",
        "\n",
        "# Define the model architecture\n",
        "model = Sequential([\n",
        "    Dense(10, activation='relu', input_shape=(X_train.shape[1],)),  # Layer 1\n",
        "    Dense(8, activation='relu'),                                     # Layer 2\n",
        "    Dense(8, activation='relu'),                                     # Layer 3\n",
        "    Dense(4, activation='relu'),                                     # Layer 4\n",
        "    Dense(1, activation='sigmoid')                                   # Output Layer\n",
        "])\n",
        "\n",
        "# Compile the model\n",
        "model.compile(optimizer='adam', loss='binary_crossentropy', metrics=['accuracy'])\n"
      ],
      "metadata": {
        "id": "1FqpQiaKAQEi"
      },
      "execution_count": 10,
      "outputs": []
    },
    {
      "cell_type": "code",
      "source": [
        "# Model summary\n",
        "model.summary()"
      ],
      "metadata": {
        "colab": {
          "base_uri": "https://localhost:8080/"
        },
        "id": "YvG4hem9AVc3",
        "outputId": "dc935f0c-6325-4c88-ed77-e866b463137e"
      },
      "execution_count": 11,
      "outputs": [
        {
          "output_type": "stream",
          "name": "stdout",
          "text": [
            "Model: \"sequential\"\n",
            "_________________________________________________________________\n",
            " Layer (type)                Output Shape              Param #   \n",
            "=================================================================\n",
            " dense (Dense)               (None, 10)                50        \n",
            "                                                                 \n",
            " dense_1 (Dense)             (None, 8)                 88        \n",
            "                                                                 \n",
            " dense_2 (Dense)             (None, 8)                 72        \n",
            "                                                                 \n",
            " dense_3 (Dense)             (None, 4)                 36        \n",
            "                                                                 \n",
            " dense_4 (Dense)             (None, 1)                 5         \n",
            "                                                                 \n",
            "=================================================================\n",
            "Total params: 251 (1004.00 Byte)\n",
            "Trainable params: 251 (1004.00 Byte)\n",
            "Non-trainable params: 0 (0.00 Byte)\n",
            "_________________________________________________________________\n"
          ]
        }
      ]
    },
    {
      "cell_type": "markdown",
      "source": [
        "**Train the Model**"
      ],
      "metadata": {
        "id": "2k5hx5aWBokE"
      }
    },
    {
      "cell_type": "code",
      "source": [
        "# Train the model\n",
        "history = model.fit(X_train, y_train, epochs=100, validation_split=0.2)"
      ],
      "metadata": {
        "colab": {
          "base_uri": "https://localhost:8080/"
        },
        "id": "12MwhaIUAcEY",
        "outputId": "c920ddce-adb0-4895-8992-2f8d04f290ce"
      },
      "execution_count": 12,
      "outputs": [
        {
          "output_type": "stream",
          "name": "stdout",
          "text": [
            "Epoch 1/100\n",
            "2/2 [==============================] - 3s 643ms/step - loss: 0.6931 - accuracy: 0.5000 - val_loss: 0.6931 - val_accuracy: 0.3750\n",
            "Epoch 2/100\n",
            "2/2 [==============================] - 0s 67ms/step - loss: 0.6932 - accuracy: 0.4688 - val_loss: 0.6931 - val_accuracy: 0.6250\n",
            "Epoch 3/100\n",
            "2/2 [==============================] - 0s 155ms/step - loss: 0.6932 - accuracy: 0.5000 - val_loss: 0.6931 - val_accuracy: 0.6250\n",
            "Epoch 4/100\n",
            "2/2 [==============================] - 0s 306ms/step - loss: 0.6932 - accuracy: 0.5000 - val_loss: 0.6931 - val_accuracy: 0.6250\n",
            "Epoch 5/100\n",
            "2/2 [==============================] - 0s 172ms/step - loss: 0.6931 - accuracy: 0.5000 - val_loss: 0.6931 - val_accuracy: 0.6250\n",
            "Epoch 6/100\n",
            "2/2 [==============================] - 0s 205ms/step - loss: 0.6931 - accuracy: 0.5000 - val_loss: 0.6931 - val_accuracy: 0.6250\n",
            "Epoch 7/100\n",
            "2/2 [==============================] - 0s 203ms/step - loss: 0.6931 - accuracy: 0.5000 - val_loss: 0.6931 - val_accuracy: 0.6250\n",
            "Epoch 8/100\n",
            "2/2 [==============================] - 0s 187ms/step - loss: 0.6931 - accuracy: 0.5000 - val_loss: 0.6931 - val_accuracy: 0.6250\n",
            "Epoch 9/100\n",
            "2/2 [==============================] - 0s 158ms/step - loss: 0.6931 - accuracy: 0.5000 - val_loss: 0.6931 - val_accuracy: 0.6250\n",
            "Epoch 10/100\n",
            "2/2 [==============================] - 0s 173ms/step - loss: 0.6932 - accuracy: 0.5000 - val_loss: 0.6931 - val_accuracy: 0.6250\n",
            "Epoch 11/100\n",
            "2/2 [==============================] - 0s 137ms/step - loss: 0.6932 - accuracy: 0.5000 - val_loss: 0.6930 - val_accuracy: 0.6250\n",
            "Epoch 12/100\n",
            "2/2 [==============================] - 0s 124ms/step - loss: 0.6931 - accuracy: 0.5000 - val_loss: 0.6931 - val_accuracy: 0.6250\n",
            "Epoch 13/100\n",
            "2/2 [==============================] - 0s 105ms/step - loss: 0.6932 - accuracy: 0.5000 - val_loss: 0.6930 - val_accuracy: 0.6250\n",
            "Epoch 14/100\n",
            "2/2 [==============================] - 0s 214ms/step - loss: 0.6931 - accuracy: 0.5000 - val_loss: 0.6931 - val_accuracy: 0.6250\n",
            "Epoch 15/100\n",
            "2/2 [==============================] - 0s 208ms/step - loss: 0.6931 - accuracy: 0.5000 - val_loss: 0.6931 - val_accuracy: 0.6250\n",
            "Epoch 16/100\n",
            "2/2 [==============================] - 0s 175ms/step - loss: 0.6931 - accuracy: 0.5000 - val_loss: 0.6931 - val_accuracy: 0.6250\n",
            "Epoch 17/100\n",
            "2/2 [==============================] - 0s 108ms/step - loss: 0.6931 - accuracy: 0.5000 - val_loss: 0.6931 - val_accuracy: 0.6250\n",
            "Epoch 18/100\n",
            "2/2 [==============================] - 0s 88ms/step - loss: 0.6931 - accuracy: 0.5000 - val_loss: 0.6931 - val_accuracy: 0.6250\n",
            "Epoch 19/100\n",
            "2/2 [==============================] - 0s 141ms/step - loss: 0.6931 - accuracy: 0.5000 - val_loss: 0.6931 - val_accuracy: 0.6250\n",
            "Epoch 20/100\n",
            "2/2 [==============================] - 0s 159ms/step - loss: 0.6932 - accuracy: 0.5000 - val_loss: 0.6931 - val_accuracy: 0.6250\n",
            "Epoch 21/100\n",
            "2/2 [==============================] - 0s 195ms/step - loss: 0.6932 - accuracy: 0.5000 - val_loss: 0.6931 - val_accuracy: 0.6250\n",
            "Epoch 22/100\n",
            "2/2 [==============================] - 0s 146ms/step - loss: 0.6931 - accuracy: 0.5000 - val_loss: 0.6931 - val_accuracy: 0.6250\n",
            "Epoch 23/100\n",
            "2/2 [==============================] - 0s 100ms/step - loss: 0.6932 - accuracy: 0.5000 - val_loss: 0.6930 - val_accuracy: 0.6250\n",
            "Epoch 24/100\n",
            "2/2 [==============================] - 0s 114ms/step - loss: 0.6931 - accuracy: 0.5000 - val_loss: 0.6931 - val_accuracy: 0.6250\n",
            "Epoch 25/100\n",
            "2/2 [==============================] - 0s 170ms/step - loss: 0.6932 - accuracy: 0.5000 - val_loss: 0.6931 - val_accuracy: 0.6250\n",
            "Epoch 26/100\n",
            "2/2 [==============================] - 0s 131ms/step - loss: 0.6931 - accuracy: 0.5000 - val_loss: 0.6931 - val_accuracy: 0.6250\n",
            "Epoch 27/100\n",
            "2/2 [==============================] - 0s 141ms/step - loss: 0.6932 - accuracy: 0.5000 - val_loss: 0.6931 - val_accuracy: 0.6250\n",
            "Epoch 28/100\n",
            "2/2 [==============================] - 0s 136ms/step - loss: 0.6931 - accuracy: 0.5000 - val_loss: 0.6931 - val_accuracy: 0.6250\n",
            "Epoch 29/100\n",
            "2/2 [==============================] - 0s 182ms/step - loss: 0.6931 - accuracy: 0.5000 - val_loss: 0.6931 - val_accuracy: 0.6250\n",
            "Epoch 30/100\n",
            "2/2 [==============================] - 0s 184ms/step - loss: 0.6932 - accuracy: 0.5000 - val_loss: 0.6931 - val_accuracy: 0.6250\n",
            "Epoch 31/100\n",
            "2/2 [==============================] - 0s 117ms/step - loss: 0.6932 - accuracy: 0.5000 - val_loss: 0.6931 - val_accuracy: 0.6250\n",
            "Epoch 32/100\n",
            "2/2 [==============================] - 0s 82ms/step - loss: 0.6932 - accuracy: 0.5000 - val_loss: 0.6931 - val_accuracy: 0.6250\n",
            "Epoch 33/100\n",
            "2/2 [==============================] - 0s 70ms/step - loss: 0.6931 - accuracy: 0.5000 - val_loss: 0.6931 - val_accuracy: 0.6250\n",
            "Epoch 34/100\n",
            "2/2 [==============================] - 0s 119ms/step - loss: 0.6931 - accuracy: 0.5000 - val_loss: 0.6931 - val_accuracy: 0.6250\n",
            "Epoch 35/100\n",
            "2/2 [==============================] - 0s 106ms/step - loss: 0.6932 - accuracy: 0.5000 - val_loss: 0.6931 - val_accuracy: 0.6250\n",
            "Epoch 36/100\n",
            "2/2 [==============================] - 0s 72ms/step - loss: 0.6932 - accuracy: 0.5000 - val_loss: 0.6931 - val_accuracy: 0.6250\n",
            "Epoch 37/100\n",
            "2/2 [==============================] - 0s 72ms/step - loss: 0.6932 - accuracy: 0.5000 - val_loss: 0.6931 - val_accuracy: 0.6250\n",
            "Epoch 38/100\n",
            "2/2 [==============================] - 0s 75ms/step - loss: 0.6931 - accuracy: 0.5000 - val_loss: 0.6931 - val_accuracy: 0.6250\n",
            "Epoch 39/100\n",
            "2/2 [==============================] - 0s 189ms/step - loss: 0.6931 - accuracy: 0.5000 - val_loss: 0.6931 - val_accuracy: 0.6250\n",
            "Epoch 40/100\n",
            "2/2 [==============================] - 0s 113ms/step - loss: 0.6931 - accuracy: 0.5000 - val_loss: 0.6931 - val_accuracy: 0.6250\n",
            "Epoch 41/100\n",
            "2/2 [==============================] - 0s 75ms/step - loss: 0.6931 - accuracy: 0.5000 - val_loss: 0.6931 - val_accuracy: 0.6250\n",
            "Epoch 42/100\n",
            "2/2 [==============================] - 0s 84ms/step - loss: 0.6932 - accuracy: 0.5000 - val_loss: 0.6931 - val_accuracy: 0.6250\n",
            "Epoch 43/100\n",
            "2/2 [==============================] - 0s 87ms/step - loss: 0.6931 - accuracy: 0.5000 - val_loss: 0.6931 - val_accuracy: 0.6250\n",
            "Epoch 44/100\n",
            "2/2 [==============================] - 0s 80ms/step - loss: 0.6932 - accuracy: 0.5000 - val_loss: 0.6931 - val_accuracy: 0.6250\n",
            "Epoch 45/100\n",
            "2/2 [==============================] - 0s 77ms/step - loss: 0.6931 - accuracy: 0.5000 - val_loss: 0.6931 - val_accuracy: 0.6250\n",
            "Epoch 46/100\n",
            "2/2 [==============================] - 0s 89ms/step - loss: 0.6931 - accuracy: 0.5000 - val_loss: 0.6931 - val_accuracy: 0.6250\n",
            "Epoch 47/100\n",
            "2/2 [==============================] - 0s 53ms/step - loss: 0.6931 - accuracy: 0.5000 - val_loss: 0.6931 - val_accuracy: 0.6250\n",
            "Epoch 48/100\n",
            "2/2 [==============================] - 0s 52ms/step - loss: 0.6931 - accuracy: 0.5000 - val_loss: 0.6931 - val_accuracy: 0.6250\n",
            "Epoch 49/100\n",
            "2/2 [==============================] - 0s 52ms/step - loss: 0.6931 - accuracy: 0.5000 - val_loss: 0.6931 - val_accuracy: 0.6250\n",
            "Epoch 50/100\n",
            "2/2 [==============================] - 0s 34ms/step - loss: 0.6931 - accuracy: 0.5000 - val_loss: 0.6931 - val_accuracy: 0.6250\n",
            "Epoch 51/100\n",
            "2/2 [==============================] - 0s 37ms/step - loss: 0.6932 - accuracy: 0.5000 - val_loss: 0.6931 - val_accuracy: 0.6250\n",
            "Epoch 52/100\n",
            "2/2 [==============================] - 0s 53ms/step - loss: 0.6932 - accuracy: 0.5000 - val_loss: 0.6931 - val_accuracy: 0.6250\n",
            "Epoch 53/100\n",
            "2/2 [==============================] - 0s 51ms/step - loss: 0.6931 - accuracy: 0.5000 - val_loss: 0.6931 - val_accuracy: 0.6250\n",
            "Epoch 54/100\n",
            "2/2 [==============================] - 0s 52ms/step - loss: 0.6931 - accuracy: 0.5000 - val_loss: 0.6931 - val_accuracy: 0.6250\n",
            "Epoch 55/100\n",
            "2/2 [==============================] - 0s 52ms/step - loss: 0.6932 - accuracy: 0.5000 - val_loss: 0.6931 - val_accuracy: 0.6250\n",
            "Epoch 56/100\n",
            "2/2 [==============================] - 0s 52ms/step - loss: 0.6931 - accuracy: 0.5000 - val_loss: 0.6931 - val_accuracy: 0.6250\n",
            "Epoch 57/100\n",
            "2/2 [==============================] - 0s 38ms/step - loss: 0.6932 - accuracy: 0.5000 - val_loss: 0.6931 - val_accuracy: 0.6250\n",
            "Epoch 58/100\n",
            "2/2 [==============================] - 0s 36ms/step - loss: 0.6932 - accuracy: 0.5000 - val_loss: 0.6931 - val_accuracy: 0.6250\n",
            "Epoch 59/100\n",
            "2/2 [==============================] - 0s 35ms/step - loss: 0.6931 - accuracy: 0.5000 - val_loss: 0.6931 - val_accuracy: 0.6250\n",
            "Epoch 60/100\n",
            "2/2 [==============================] - 0s 51ms/step - loss: 0.6931 - accuracy: 0.5000 - val_loss: 0.6931 - val_accuracy: 0.6250\n",
            "Epoch 61/100\n",
            "2/2 [==============================] - 0s 38ms/step - loss: 0.6932 - accuracy: 0.5000 - val_loss: 0.6931 - val_accuracy: 0.6250\n",
            "Epoch 62/100\n",
            "2/2 [==============================] - 0s 55ms/step - loss: 0.6932 - accuracy: 0.5000 - val_loss: 0.6931 - val_accuracy: 0.6250\n",
            "Epoch 63/100\n",
            "2/2 [==============================] - 0s 36ms/step - loss: 0.6932 - accuracy: 0.5000 - val_loss: 0.6931 - val_accuracy: 0.6250\n",
            "Epoch 64/100\n",
            "2/2 [==============================] - 0s 36ms/step - loss: 0.6932 - accuracy: 0.5000 - val_loss: 0.6931 - val_accuracy: 0.6250\n",
            "Epoch 65/100\n",
            "2/2 [==============================] - 0s 36ms/step - loss: 0.6931 - accuracy: 0.5000 - val_loss: 0.6931 - val_accuracy: 0.6250\n",
            "Epoch 66/100\n",
            "2/2 [==============================] - 0s 41ms/step - loss: 0.6931 - accuracy: 0.5000 - val_loss: 0.6931 - val_accuracy: 0.6250\n",
            "Epoch 67/100\n",
            "2/2 [==============================] - 0s 34ms/step - loss: 0.6931 - accuracy: 0.5000 - val_loss: 0.6931 - val_accuracy: 0.6250\n",
            "Epoch 68/100\n",
            "2/2 [==============================] - 0s 51ms/step - loss: 0.6931 - accuracy: 0.5000 - val_loss: 0.6931 - val_accuracy: 0.6250\n",
            "Epoch 69/100\n",
            "2/2 [==============================] - 0s 35ms/step - loss: 0.6932 - accuracy: 0.5000 - val_loss: 0.6931 - val_accuracy: 0.6250\n",
            "Epoch 70/100\n",
            "2/2 [==============================] - 0s 38ms/step - loss: 0.6932 - accuracy: 0.5000 - val_loss: 0.6931 - val_accuracy: 0.6250\n",
            "Epoch 71/100\n",
            "2/2 [==============================] - 0s 35ms/step - loss: 0.6931 - accuracy: 0.5000 - val_loss: 0.6931 - val_accuracy: 0.6250\n",
            "Epoch 72/100\n",
            "2/2 [==============================] - 0s 37ms/step - loss: 0.6932 - accuracy: 0.3125 - val_loss: 0.6932 - val_accuracy: 0.3750\n",
            "Epoch 73/100\n",
            "2/2 [==============================] - 0s 33ms/step - loss: 0.6931 - accuracy: 0.5000 - val_loss: 0.6932 - val_accuracy: 0.3750\n",
            "Epoch 74/100\n",
            "2/2 [==============================] - 0s 54ms/step - loss: 0.6931 - accuracy: 0.5000 - val_loss: 0.6932 - val_accuracy: 0.3750\n",
            "Epoch 75/100\n",
            "2/2 [==============================] - 0s 35ms/step - loss: 0.6932 - accuracy: 0.4062 - val_loss: 0.6931 - val_accuracy: 0.6250\n",
            "Epoch 76/100\n",
            "2/2 [==============================] - 0s 51ms/step - loss: 0.6931 - accuracy: 0.5000 - val_loss: 0.6931 - val_accuracy: 0.6250\n",
            "Epoch 77/100\n",
            "2/2 [==============================] - 0s 51ms/step - loss: 0.6932 - accuracy: 0.5000 - val_loss: 0.6931 - val_accuracy: 0.6250\n",
            "Epoch 78/100\n",
            "2/2 [==============================] - 0s 38ms/step - loss: 0.6931 - accuracy: 0.5000 - val_loss: 0.6931 - val_accuracy: 0.6250\n",
            "Epoch 79/100\n",
            "2/2 [==============================] - 0s 53ms/step - loss: 0.6931 - accuracy: 0.5000 - val_loss: 0.6931 - val_accuracy: 0.6250\n",
            "Epoch 80/100\n",
            "2/2 [==============================] - 0s 36ms/step - loss: 0.6931 - accuracy: 0.5000 - val_loss: 0.6931 - val_accuracy: 0.6250\n",
            "Epoch 81/100\n",
            "2/2 [==============================] - 0s 35ms/step - loss: 0.6932 - accuracy: 0.3125 - val_loss: 0.6932 - val_accuracy: 0.3750\n",
            "Epoch 82/100\n",
            "2/2 [==============================] - 0s 54ms/step - loss: 0.6931 - accuracy: 0.5000 - val_loss: 0.6932 - val_accuracy: 0.3750\n",
            "Epoch 83/100\n",
            "2/2 [==============================] - 0s 37ms/step - loss: 0.6931 - accuracy: 0.5000 - val_loss: 0.6932 - val_accuracy: 0.3750\n",
            "Epoch 84/100\n",
            "2/2 [==============================] - 0s 35ms/step - loss: 0.6931 - accuracy: 0.5000 - val_loss: 0.6932 - val_accuracy: 0.3750\n",
            "Epoch 85/100\n",
            "2/2 [==============================] - 0s 50ms/step - loss: 0.6932 - accuracy: 0.3750 - val_loss: 0.6931 - val_accuracy: 0.6250\n",
            "Epoch 86/100\n",
            "2/2 [==============================] - 0s 36ms/step - loss: 0.6931 - accuracy: 0.5000 - val_loss: 0.6931 - val_accuracy: 0.6250\n",
            "Epoch 87/100\n",
            "2/2 [==============================] - 0s 57ms/step - loss: 0.6932 - accuracy: 0.5000 - val_loss: 0.6931 - val_accuracy: 0.6250\n",
            "Epoch 88/100\n",
            "2/2 [==============================] - 0s 38ms/step - loss: 0.6932 - accuracy: 0.5000 - val_loss: 0.6931 - val_accuracy: 0.6250\n",
            "Epoch 89/100\n",
            "2/2 [==============================] - 0s 53ms/step - loss: 0.6931 - accuracy: 0.5000 - val_loss: 0.6931 - val_accuracy: 0.6250\n",
            "Epoch 90/100\n",
            "2/2 [==============================] - 0s 36ms/step - loss: 0.6931 - accuracy: 0.5000 - val_loss: 0.6931 - val_accuracy: 0.6250\n",
            "Epoch 91/100\n",
            "2/2 [==============================] - 0s 43ms/step - loss: 0.6931 - accuracy: 0.5000 - val_loss: 0.6931 - val_accuracy: 0.6250\n",
            "Epoch 92/100\n",
            "2/2 [==============================] - 0s 55ms/step - loss: 0.6931 - accuracy: 0.5000 - val_loss: 0.6931 - val_accuracy: 0.6250\n",
            "Epoch 93/100\n",
            "2/2 [==============================] - 0s 37ms/step - loss: 0.6932 - accuracy: 0.4375 - val_loss: 0.6931 - val_accuracy: 0.6250\n",
            "Epoch 94/100\n",
            "2/2 [==============================] - 0s 50ms/step - loss: 0.6932 - accuracy: 0.5000 - val_loss: 0.6931 - val_accuracy: 0.6250\n",
            "Epoch 95/100\n",
            "2/2 [==============================] - 0s 41ms/step - loss: 0.6931 - accuracy: 0.5000 - val_loss: 0.6931 - val_accuracy: 0.6250\n",
            "Epoch 96/100\n",
            "2/2 [==============================] - 0s 54ms/step - loss: 0.6931 - accuracy: 0.5000 - val_loss: 0.6931 - val_accuracy: 0.6250\n",
            "Epoch 97/100\n",
            "2/2 [==============================] - 0s 37ms/step - loss: 0.6931 - accuracy: 0.5000 - val_loss: 0.6931 - val_accuracy: 0.6250\n",
            "Epoch 98/100\n",
            "2/2 [==============================] - 0s 55ms/step - loss: 0.6932 - accuracy: 0.5000 - val_loss: 0.6931 - val_accuracy: 0.6250\n",
            "Epoch 99/100\n",
            "2/2 [==============================] - 0s 39ms/step - loss: 0.6931 - accuracy: 0.5000 - val_loss: 0.6931 - val_accuracy: 0.6250\n",
            "Epoch 100/100\n",
            "2/2 [==============================] - 0s 34ms/step - loss: 0.6932 - accuracy: 0.4062 - val_loss: 0.6932 - val_accuracy: 0.3750\n"
          ]
        }
      ]
    },
    {
      "cell_type": "markdown",
      "source": [
        "**Evaluate the Model**"
      ],
      "metadata": {
        "id": "3vca29A-Br3l"
      }
    },
    {
      "cell_type": "code",
      "source": [
        "# Evaluate the model\n",
        "test_loss, test_accuracy = model.evaluate(X_test, y_test)\n",
        "print(f\"Test Accuracy: {test_accuracy*100:.2f}%\")"
      ],
      "metadata": {
        "colab": {
          "base_uri": "https://localhost:8080/"
        },
        "id": "4ML5LSIuAxBo",
        "outputId": "00f72831-4b36-45ab-fade-7ba257073dd1"
      },
      "execution_count": 13,
      "outputs": [
        {
          "output_type": "stream",
          "name": "stdout",
          "text": [
            "1/1 [==============================] - 0s 27ms/step - loss: 0.6931 - accuracy: 0.6000\n",
            "Test Accuracy: 60.00%\n"
          ]
        }
      ]
    },
    {
      "cell_type": "markdown",
      "source": [
        "**Make Predictions**"
      ],
      "metadata": {
        "id": "pai1ai-ABvm5"
      }
    },
    {
      "cell_type": "code",
      "source": [
        "# Predict on new data\n",
        "predictions = model.predict(X_test)"
      ],
      "metadata": {
        "colab": {
          "base_uri": "https://localhost:8080/"
        },
        "id": "j4YxBhlgAmjN",
        "outputId": "da58ba1e-9762-4272-8019-34d5a0fc0035"
      },
      "execution_count": 14,
      "outputs": [
        {
          "output_type": "stream",
          "name": "stdout",
          "text": [
            "1/1 [==============================] - 0s 108ms/step\n"
          ]
        }
      ]
    }
  ]
}