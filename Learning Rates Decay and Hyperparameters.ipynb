{
  "nbformat": 4,
  "nbformat_minor": 0,
  "metadata": {
    "colab": {
      "provenance": []
    },
    "kernelspec": {
      "name": "python3",
      "display_name": "Python 3"
    },
    "language_info": {
      "name": "python"
    }
  },
  "cells": [
    {
      "cell_type": "markdown",
      "source": [
        "**Implementation of mini batch approach**"
      ],
      "metadata": {
        "id": "PiIMRfmdjOpU"
      }
    },
    {
      "cell_type": "code",
      "execution_count": 1,
      "metadata": {
        "id": "5npxK2vViszo"
      },
      "outputs": [],
      "source": [
        "import torch\n",
        "import torch.nn as nn\n",
        "import torch.optim as optim\n",
        "from torch.utils.data import DataLoader, TensorDataset"
      ]
    },
    {
      "cell_type": "code",
      "source": [
        "# Generating a dummy dataset\n",
        "x = torch.randn(1000, 10)  # 1000 samples, 10 features each\n",
        "y = torch.randn(1000, 1)   # 1000 target values"
      ],
      "metadata": {
        "id": "zYa9246TiwT2"
      },
      "execution_count": 2,
      "outputs": []
    },
    {
      "cell_type": "code",
      "source": [
        "# Creating a dataset and dataloader for mini-batch processing\n",
        "dataset = TensorDataset(x, y)\n",
        "batch_size = 64\n",
        "dataloader = DataLoader(dataset, batch_size=batch_size, shuffle=True)"
      ],
      "metadata": {
        "id": "l8ukX1vCi2WL"
      },
      "execution_count": 3,
      "outputs": []
    },
    {
      "cell_type": "code",
      "source": [
        "# Step 2: Define the model\n",
        "class SimpleNN(nn.Module):\n",
        "    def __init__(self):\n",
        "        super(SimpleNN, self).__init__()\n",
        "        self.linear1 = nn.Linear(10, 50)\n",
        "        self.relu = nn.ReLU()\n",
        "        self.linear2 = nn.Linear(50, 1)\n",
        "\n",
        "    def forward(self, x):\n",
        "        x = self.linear1(x)\n",
        "        x = self.relu(x)\n",
        "        x = self.linear2(x)\n",
        "        return x\n",
        "\n",
        "model = SimpleNN()"
      ],
      "metadata": {
        "id": "LYeItsxki-Un"
      },
      "execution_count": 4,
      "outputs": []
    },
    {
      "cell_type": "code",
      "source": [
        "# Step 3: Define the loss function\n",
        "criterion = nn.MSELoss()"
      ],
      "metadata": {
        "id": "PsPyPBo8jBtX"
      },
      "execution_count": 5,
      "outputs": []
    },
    {
      "cell_type": "code",
      "source": [
        "# Step 4: Define the optimizer\n",
        "optimizer = optim.Adam(model.parameters(), lr=0.001)"
      ],
      "metadata": {
        "id": "UbrIddvVjEij"
      },
      "execution_count": 6,
      "outputs": []
    },
    {
      "cell_type": "code",
      "source": [
        "# Step 5: Train the model\n",
        "num_epochs = 5\n",
        "for epoch in range(num_epochs):\n",
        "    for inputs, targets in dataloader:\n",
        "        # Forward pass\n",
        "        outputs = model(inputs)\n",
        "        loss = criterion(outputs, targets)\n",
        "\n",
        "        # Backward pass and optimize\n",
        "        optimizer.zero_grad()\n",
        "        loss.backward()\n",
        "        optimizer.step()\n",
        "\n",
        "    print(f'Epoch [{epoch+1}/{num_epochs}], Loss: {loss.item()}')"
      ],
      "metadata": {
        "colab": {
          "base_uri": "https://localhost:8080/"
        },
        "id": "4u87Xet8jHcx",
        "outputId": "c1f7d821-4171-47b2-dbf8-5310a0371671"
      },
      "execution_count": 7,
      "outputs": [
        {
          "output_type": "stream",
          "name": "stdout",
          "text": [
            "Epoch [1/5], Loss: 0.8948027491569519\n",
            "Epoch [2/5], Loss: 1.3405439853668213\n",
            "Epoch [3/5], Loss: 1.0436257123947144\n",
            "Epoch [4/5], Loss: 0.8987032771110535\n",
            "Epoch [5/5], Loss: 1.327872633934021\n"
          ]
        }
      ]
    }
  ]
}