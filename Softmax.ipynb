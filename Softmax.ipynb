{
  "nbformat": 4,
  "nbformat_minor": 0,
  "metadata": {
    "colab": {
      "provenance": []
    },
    "kernelspec": {
      "name": "python3",
      "display_name": "Python 3"
    },
    "language_info": {
      "name": "python"
    }
  },
  "cells": [
    {
      "cell_type": "code",
      "source": [
        "import numpy as np"
      ],
      "metadata": {
        "id": "uy3F370aC5DS"
      },
      "execution_count": 4,
      "outputs": []
    },
    {
      "cell_type": "code",
      "execution_count": 5,
      "metadata": {
        "colab": {
          "base_uri": "https://localhost:8080/"
        },
        "id": "X_DfKGSAC0Fs",
        "outputId": "a2fce082-dfe7-4b2c-88d9-6c773713ce08"
      },
      "outputs": [
        {
          "output_type": "stream",
          "name": "stdout",
          "text": [
            "[0.65900114 0.24243297 0.09856589]\n"
          ]
        }
      ],
      "source": [
        "def softmax(x):\n",
        "    \"\"\"Compute the softmax of vector x.\"\"\"\n",
        "    exp_x = np.exp(x)\n",
        "    return exp_x / np.sum(exp_x)\n",
        "\n",
        "# Example usage\n",
        "x = np.array([2.0, 1.0, 0.1])\n",
        "softmax_x = softmax(x)\n",
        "print(softmax_x)\n"
      ]
    }
  ]
}