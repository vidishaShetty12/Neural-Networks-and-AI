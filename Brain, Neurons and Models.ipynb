{
 "cells": [
  {
   "cell_type": "markdown",
   "id": "4668eaf0",
   "metadata": {},
   "source": [
    "### Develop software to simulate the McCulloch and Pitts model of artificial neuron. The simulated neuron takes input and generates output according to the activation function. Make sure that your simulation software is designed well to allow for further enhancements"
   ]
  },
  {
   "cell_type": "code",
   "execution_count": 2,
   "id": "58665c22",
   "metadata": {},
   "outputs": [],
   "source": [
    "#import libraries\n",
    "import abc\n",
    "import random"
   ]
  },
  {
   "cell_type": "code",
   "execution_count": 3,
   "id": "805de56f",
   "metadata": {},
   "outputs": [],
   "source": [
    "# Abstract Base Class for Activation Functions\n",
    "class ActivationFunction(metaclass=abc.ABCMeta):\n",
    "    @abc.abstractmethod\n",
    "    def activate(self, input_sum):\n",
    "        pass"
   ]
  },
  {
   "cell_type": "code",
   "execution_count": 4,
   "id": "6a47b21e",
   "metadata": {},
   "outputs": [],
   "source": [
    "# Specific Activation Function (e.g., Step Function)\n",
    "class StepFunction(ActivationFunction):\n",
    "    def activate(self, input_sum):\n",
    "        return 1 if input_sum >= 0 else 0"
   ]
  },
  {
   "cell_type": "code",
   "execution_count": 5,
   "id": "f6e5a2ab",
   "metadata": {},
   "outputs": [],
   "source": [
    "# Class for Neuron\n",
    "class Neuron:\n",
    "    def __init__(self, num_inputs, activation_function):\n",
    "        self.inputs = [Input() for _ in range(num_inputs)]\n",
    "        self.bias = Bias()\n",
    "        self.activation_function = activation_function\n",
    "\n",
    "    def output(self):\n",
    "        weighted_sum = sum(i.weighted_value() for i in self.inputs) + self.bias.value\n",
    "        return self.activation_function.activate(weighted_sum)"
   ]
  },
  {
   "cell_type": "code",
   "execution_count": 6,
   "id": "af392209",
   "metadata": {},
   "outputs": [],
   "source": [
    "# Class for Input\n",
    "class Input:\n",
    "    def __init__(self):\n",
    "        self.value = 0\n",
    "        self.weight = random.uniform(-1, 1)\n",
    "\n",
    "    def weighted_value(self):\n",
    "        return self.value * self.weight\n",
    "\n",
    "    def set_value(self, value):\n",
    "        self.value = value"
   ]
  },
  {
   "cell_type": "code",
   "execution_count": 7,
   "id": "167e0da3",
   "metadata": {},
   "outputs": [],
   "source": [
    "# Class for Bias\n",
    "class Bias:\n",
    "    def __init__(self):\n",
    "        self.value = random.uniform(-1, 1)"
   ]
  },
  {
   "cell_type": "code",
   "execution_count": 8,
   "id": "72b1c913",
   "metadata": {},
   "outputs": [
    {
     "name": "stdout",
     "output_type": "stream",
     "text": [
      "Neuron Output: 0\n"
     ]
    }
   ],
   "source": [
    "# Create a neuron with 3 inputs and a step activation function\n",
    "neuron = Neuron(3, StepFunction())\n",
    "\n",
    "# Set input values\n",
    "neuron.inputs[0].set_value(1)\n",
    "neuron.inputs[1].set_value(-1)\n",
    "neuron.inputs[2].set_value(0.5)\n",
    "\n",
    "# Get neuron output\n",
    "print(\"Neuron Output:\", neuron.output())"
   ]
  }
 ],
 "metadata": {
  "kernelspec": {
   "display_name": "Python 3 (ipykernel)",
   "language": "python",
   "name": "python3"
  },
  "language_info": {
   "codemirror_mode": {
    "name": "ipython",
    "version": 3
   },
   "file_extension": ".py",
   "mimetype": "text/x-python",
   "name": "python",
   "nbconvert_exporter": "python",
   "pygments_lexer": "ipython3",
   "version": "3.11.5"
  }
 },
 "nbformat": 4,
 "nbformat_minor": 5
}
