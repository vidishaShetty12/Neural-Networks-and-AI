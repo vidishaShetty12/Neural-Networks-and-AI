{
  "nbformat": 4,
  "nbformat_minor": 0,
  "metadata": {
    "colab": {
      "provenance": []
    },
    "kernelspec": {
      "name": "python3",
      "display_name": "Python 3"
    },
    "language_info": {
      "name": "python"
    }
  },
  "cells": [
    {
      "cell_type": "markdown",
      "source": [
        "**Implementation input normalization algorithm**"
      ],
      "metadata": {
        "id": "eytbJulFnXHm"
      }
    },
    {
      "cell_type": "code",
      "execution_count": 1,
      "metadata": {
        "id": "cdT43ya5mFIE"
      },
      "outputs": [],
      "source": [
        "import numpy as np"
      ]
    },
    {
      "cell_type": "code",
      "source": [
        "def min_max_normalization(data):\n",
        "    \"\"\"\n",
        "    Perform Min-Max normalization on a numpy array.\n",
        "\n",
        "    Parameters:\n",
        "    data (np.array): Input data to be normalized.\n",
        "\n",
        "    Returns:\n",
        "    np.array: Min-Max normalized data.\n",
        "    \"\"\"\n",
        "    min_val = np.min(data)\n",
        "    max_val = np.max(data)\n",
        "    normalized_data = (data - min_val) / (max_val - min_val)\n",
        "    return normalized_data"
      ],
      "metadata": {
        "id": "TEjBDcBemqVr"
      },
      "execution_count": 2,
      "outputs": []
    },
    {
      "cell_type": "code",
      "source": [
        "def z_score_normalization(data):\n",
        "    \"\"\"\n",
        "    Perform Z-score normalization on a numpy array.\n",
        "\n",
        "    Parameters:\n",
        "    data (np.array): Input data to be normalized.\n",
        "\n",
        "    Returns:\n",
        "    np.array: Z-score normalized data.\n",
        "    \"\"\"\n",
        "    mean_val = np.mean(data)\n",
        "    std_dev = np.std(data)\n",
        "    standardized_data = (data - mean_val) / std_dev\n",
        "    return standardized_data"
      ],
      "metadata": {
        "id": "9DrOM0rfmtiz"
      },
      "execution_count": 3,
      "outputs": []
    },
    {
      "cell_type": "code",
      "source": [
        "# Example usage\n",
        "data = np.array([1, 2, 3, 4, 5])"
      ],
      "metadata": {
        "id": "nJ4O5gzvmw2j"
      },
      "execution_count": 4,
      "outputs": []
    },
    {
      "cell_type": "code",
      "source": [
        "min_max_normalized_data = min_max_normalization(data)\n",
        "print(\"Min-Max Normalized data:\", min_max_normalized_data)"
      ],
      "metadata": {
        "colab": {
          "base_uri": "https://localhost:8080/"
        },
        "id": "EDlShGJLm3Mp",
        "outputId": "1b47fefb-b488-4333-dd59-92d291b6f9a2"
      },
      "execution_count": 5,
      "outputs": [
        {
          "output_type": "stream",
          "name": "stdout",
          "text": [
            "Min-Max Normalized data: [0.   0.25 0.5  0.75 1.  ]\n"
          ]
        }
      ]
    },
    {
      "cell_type": "code",
      "source": [
        "z_score_normalized_data = z_score_normalization(data)\n",
        "print(\"Z-score Normalized data:\", z_score_normalized_data)"
      ],
      "metadata": {
        "colab": {
          "base_uri": "https://localhost:8080/"
        },
        "id": "4HsatwGam5ok",
        "outputId": "ffa1165b-b268-43bb-9074-0b391c9d10ce"
      },
      "execution_count": 6,
      "outputs": [
        {
          "output_type": "stream",
          "name": "stdout",
          "text": [
            "Z-score Normalized data: [-1.41421356 -0.70710678  0.          0.70710678  1.41421356]\n"
          ]
        }
      ]
    }
  ]
}