{
 "cells": [
  {
   "cell_type": "code",
   "execution_count": 1,
   "id": "859c732a",
   "metadata": {},
   "outputs": [],
   "source": [
    "#import libraries\n",
    "from PIL import Image, ImageDraw, ImageFont\n",
    "import random\n",
    "import matplotlib.pyplot as plt"
   ]
  },
  {
   "cell_type": "code",
   "execution_count": 2,
   "id": "9fad26fc",
   "metadata": {},
   "outputs": [],
   "source": [
    "# Set the size of the image\n",
    "img_size = (20, 20)"
   ]
  },
  {
   "cell_type": "code",
   "execution_count": 3,
   "id": "360e7a93",
   "metadata": {},
   "outputs": [],
   "source": [
    "# Prepare a function to create a handwritten-style number\n",
    "def create_handwritten_digit(digit):\n",
    "    # Create a blank image with white background\n",
    "    img = Image.new('L', img_size, color=255)\n",
    "    draw = ImageDraw.Draw(img)\n",
    "\n",
    "    # Use a basic font\n",
    "    font_size = random.randint(14, 18)  # Randomize font size\n",
    "    font = ImageFont.load_default()\n",
    "\n",
    "    # Randomize position a bit to make it look hand-written\n",
    "    position = (random.randint(0, 5), random.randint(-3, 3))\n",
    "\n",
    "    # Draw the digit\n",
    "    draw.text(position, str(digit), fill=0, font=font)\n",
    "\n",
    "    return img"
   ]
  },
  {
   "cell_type": "code",
   "execution_count": 4,
   "id": "a299bc6f",
   "metadata": {},
   "outputs": [],
   "source": [
    "# Create 10 different images for each digit\n",
    "handwritten_digits = {digit: [create_handwritten_digit(digit) for _ in range(10)] for digit in range(10)}"
   ]
  },
  {
   "cell_type": "code",
   "execution_count": 5,
   "id": "4719a15a",
   "metadata": {},
   "outputs": [],
   "source": [
    "# Function to create a test image of a handwritten digit\n",
    "def create_test_handwritten_digit():\n",
    "    # Randomly select a digit\n",
    "    digit = random.randint(0, 9)\n",
    "\n",
    "    # Reusing the same function for creating a digit image\n",
    "    return create_handwritten_digit(digit)"
   ]
  },
  {
   "cell_type": "code",
   "execution_count": 6,
   "id": "06e2d3b0",
   "metadata": {},
   "outputs": [
    {
     "data": {
      "image/png": "[encoded data removed]",
      "text/plain": [
       "<Figure size 1500x1500 with 100 Axes>"
      ]
     },
     "metadata": {},
     "output_type": "display_data"
    }
   ],
   "source": [
    "# Generate a set of test images\n",
    "num_test_images = 50\n",
    "test_handwritten_digits = [create_test_handwritten_digit() for _ in range(num_test_images)]\n",
    "\n",
    "# For demonstration purposes, display some of the created training images\n",
    "plt.figure(figsize=(15, 15))\n",
    "for digit in handwritten_digits:\n",
    "    for i in range(10):\n",
    "        plt.subplot(10, 10, digit * 10 + i + 1)\n",
    "        plt.imshow(handwritten_digits[digit][i], cmap='gray')\n",
    "        plt.axis('off')\n",
    "plt.show()"
   ]
  },
  {
   "cell_type": "code",
   "execution_count": 7,
   "id": "1716dbc5",
   "metadata": {},
   "outputs": [],
   "source": [
    "#Import libraries\n",
    "import numpy as np"
   ]
  },
  {
   "cell_type": "code",
   "execution_count": 8,
   "id": "a276c696",
   "metadata": {},
   "outputs": [],
   "source": [
    "class Perceptron:\n",
    "    def __init__(self, input_size, activation_function=\"sigmoid\"):\n",
    "        self.input_size = input_size\n",
    "        self.weights = np.random.randn(input_size)\n",
    "        self.bias = np.random.randn()\n",
    "        self.activation_function = activation_function\n",
    "\n",
    "    def initialize_parameters(self):\n",
    "        self.weights = np.random.randn(self.input_size)\n",
    "        self.bias = 0 #np.random.randn()\n",
    "\n",
    "    def sigmoid(self, x):\n",
    "        return 1 / (1 + np.exp(-x))\n",
    "\n",
    "    def sigmoid_derivative(self, x):\n",
    "        return x * (1 - x)\n",
    "\n",
    "    def activation(self, x):\n",
    "        if self.activation_function == \"sigmoid\":\n",
    "            return self.sigmoid(x)\n",
    "        else:\n",
    "            raise NotImplementedError(\"Activation function not implemented.\")\n",
    "\n",
    "    def activation_derivative(self, x):\n",
    "        if self.activation_function == \"sigmoid\":\n",
    "            return self.sigmoid_derivative(x)\n",
    "        else:\n",
    "            raise NotImplementedError(\"Activation function derivative not implemented.\")\n",
    "\n",
    "    def forward_propagation(self, inputs):\n",
    "        weighted_sum = np.dot(inputs, self.weights) + self.bias\n",
    "        output = self.activation(weighted_sum)\n",
    "        return output\n",
    "\n",
    "    def calculate_loss(self, predicted, target):\n",
    "        # Mean Squared Error (MSE) loss\n",
    "        return np.mean((predicted - target) ** 2)\n",
    "\n",
    "    def calculate_gradient(self, inputs, output, target):\n",
    "        error = target - output\n",
    "        gradient = self.activation_derivative(output)\n",
    "        delta = error * gradient\n",
    "        d_weights = np.dot(inputs.T, delta)\n",
    "        d_bias = np.sum(delta)\n",
    "        return d_weights, d_bias\n",
    "\n",
    "    def update_parameters(self, d_weights, d_bias, learning_rate):\n",
    "        self.weights += learning_rate * d_weights\n",
    "        self.bias += learning_rate * d_bias\n",
    "\n",
    "    def train(self, inputs, targets, epochs=1000, learning_rate=0.1):\n",
    "        for epoch in range(epochs):\n",
    "            total_loss = 0\n",
    "\n",
    "            for input_data, target in zip(inputs, targets):\n",
    "                # Forward propagation\n",
    "                output = self.forward_propagation(input_data)\n",
    "\n",
    "                # Calculate loss\n",
    "                loss = self.calculate_loss(output, target)\n",
    "                total_loss += loss\n",
    "\n",
    "                # Backward propagation\n",
    "                d_weights, d_bias = self.calculate_gradient(input_data, output, target)\n",
    "                self.update_parameters(d_weights, d_bias, learning_rate)\n",
    "\n",
    "            # Print average loss for each epoch\n",
    "            if epoch % 5 == 0:\n",
    "                average_loss = total_loss / len(inputs)\n",
    "                print(f\"Epoch {epoch}: Average Loss = {average_loss}\")\n"
   ]
  },
  {
   "cell_type": "code",
   "execution_count": 9,
   "id": "243cb4c9",
   "metadata": {},
   "outputs": [
    {
     "name": "stdout",
     "output_type": "stream",
     "text": [
      "Initialized weights shape: (400,)\n",
      "Initialized bias: 0\n"
     ]
    }
   ],
   "source": [
    "# Example of using the Perceptron\n",
    "input_size = 400  # 20x20 image flattened\n",
    "perceptron = Perceptron(input_size)\n",
    "# Initialize the parameters\n",
    "perceptron.initialize_parameters()\n",
    "\n",
    "# Check the initialized parameters\n",
    "print(\"Initialized weights shape:\", perceptron.weights.shape)\n",
    "print(\"Initialized bias:\", perceptron.bias)"
   ]
  },
  {
   "cell_type": "code",
   "execution_count": 10,
   "id": "3c6294e9",
   "metadata": {},
   "outputs": [
    {
     "name": "stdout",
     "output_type": "stream",
     "text": [
      "Predictions: [5 5 5 5 6 5 5 5 5 6 5 5 6 5 8 5 5 5 5 5 5 5 5 5 8 5 6 5 5 5 5 5 5 6 5 5 5\n",
      " 5 5 5 6 5 5 5 5 5 6 5 6 6]\n"
     ]
    }
   ],
   "source": [
    "from sklearn.linear_model import Perceptron\n",
    "\n",
    "# Assuming 'handwritten_digits' is a dictionary with digits as keys and lists of images as values\n",
    "# Convert the images to numpy arrays and flatten them\n",
    "X_train = np.array([np.array(img).flatten() for digit in handwritten_digits for img in handwritten_digits[digit]])\n",
    "y_train = np.array([digit for digit in handwritten_digits for _ in handwritten_digits[digit]])\n",
    "\n",
    "# Initialize the Perceptron\n",
    "perceptron = Perceptron()\n",
    "\n",
    "# Train the Perceptron using the 'fit' method\n",
    "perceptron.fit(X_train, y_train)\n",
    "\n",
    "# Assuming 'test_handwritten_digits' is a list of images to be tested\n",
    "# Test data preparation\n",
    "X_test = np.array([np.array(img).flatten() for img in test_handwritten_digits])\n",
    "\n",
    "# Make predictions using the 'predict' method\n",
    "predictions = perceptron.predict(X_test)\n",
    "\n",
    "# Display predictions\n",
    "print(\"Predictions:\", predictions)"
   ]
  },
  {
   "cell_type": "code",
   "execution_count": null,
   "id": "b31e3794",
   "metadata": {},
   "outputs": [],
   "source": []
  }
 ],
 "metadata": {
  "kernelspec": {
   "display_name": "Python 3 (ipykernel)",
   "language": "python",
   "name": "python3"
  },
  "language_info": {
   "codemirror_mode": {
    "name": "ipython",
    "version": 3
   },
   "file_extension": ".py",
   "mimetype": "text/x-python",
   "name": "python",
   "nbconvert_exporter": "python",
   "pygments_lexer": "ipython3",
   "version": "3.11.5"
  }
 },
 "nbformat": 4,
 "nbformat_minor": 5
}
