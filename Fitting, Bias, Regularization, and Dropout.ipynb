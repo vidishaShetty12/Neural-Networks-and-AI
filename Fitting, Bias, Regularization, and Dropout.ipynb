{
  "nbformat": 4,
  "nbformat_minor": 0,
  "metadata": {
    "colab": {
      "provenance": []
    },
    "kernelspec": {
      "name": "python3",
      "display_name": "Python 3"
    },
    "language_info": {
      "name": "python"
    }
  },
  "cells": [
    {
      "cell_type": "markdown",
      "source": [
        "Implemention of regularization algorithms in your neural network"
      ],
      "metadata": {
        "id": "52bjNVTZqBjX"
      }
    },
    {
      "cell_type": "code",
      "execution_count": 1,
      "metadata": {
        "id": "XJoSe-mFmoup"
      },
      "outputs": [],
      "source": [
        "#import libraries\n",
        "import tensorflow as tf\n",
        "from tensorflow.keras.datasets import mnist\n",
        "from tensorflow.keras.models import Sequential\n",
        "from tensorflow.keras.layers import Dense, Dropout, Flatten\n",
        "from tensorflow.keras.regularizers import l2"
      ]
    },
    {
      "cell_type": "code",
      "source": [
        "# Load the MNIST dataset\n",
        "(x_train, y_train), (x_test, y_test) = mnist.load_data()"
      ],
      "metadata": {
        "id": "ch7aaJ9omwuH"
      },
      "execution_count": 2,
      "outputs": []
    },
    {
      "cell_type": "code",
      "source": [
        "# Normalize the data\n",
        "x_train, x_test = x_train / 255.0, x_test / 255.0\n",
        "\n",
        "# Flatten the images for the fully connected network\n",
        "x_train = x_train.reshape(-1, 28 * 28)\n",
        "x_test = x_test.reshape(-1, 28 * 28)"
      ],
      "metadata": {
        "id": "OcWhvNuKm0XU"
      },
      "execution_count": 3,
      "outputs": []
    },
    {
      "cell_type": "code",
      "source": [
        "# Define L2 regularization parameter\n",
        "l2_reg = 0.001"
      ],
      "metadata": {
        "id": "TXKDqjjbnArq"
      },
      "execution_count": 4,
      "outputs": []
    },
    {
      "cell_type": "code",
      "source": [
        "# Build the model\n",
        "model = Sequential([\n",
        "    Dense(128, activation='relu', input_shape=(784,), kernel_regularizer=l2(l2_reg)),\n",
        "    Dropout(0.5),\n",
        "    Dense(64, activation='relu', kernel_regularizer=l2(l2_reg)),\n",
        "    Dropout(0.5),\n",
        "    Dense(10, activation='softmax')\n",
        "])"
      ],
      "metadata": {
        "id": "L58UCG11nD1G"
      },
      "execution_count": 5,
      "outputs": []
    },
    {
      "cell_type": "code",
      "source": [
        "# Compile the model\n",
        "model.compile(optimizer='adam', loss='sparse_categorical_crossentropy', metrics=['accuracy'])\n",
        "\n",
        "# Train the model\n",
        "model.fit(x_train, y_train, epochs=10, validation_data=(x_test, y_test))\n"
      ],
      "metadata": {
        "colab": {
          "base_uri": "https://localhost:8080/"
        },
        "id": "O7C16kKRnJen",
        "outputId": "8f216466-6eb2-4066-ad34-a1c6be76e9d5"
      },
      "execution_count": 6,
      "outputs": [
        {
          "output_type": "stream",
          "name": "stdout",
          "text": [
            "Epoch 1/10\n",
            "1875/1875 [==============================] - 8s 4ms/step - loss: 0.7730 - accuracy: 0.8217 - val_loss: 0.3765 - val_accuracy: 0.9404\n",
            "Epoch 2/10\n",
            "1875/1875 [==============================] - 8s 4ms/step - loss: 0.5090 - accuracy: 0.9031 - val_loss: 0.3190 - val_accuracy: 0.9511\n",
            "Epoch 3/10\n",
            "1875/1875 [==============================] - 7s 4ms/step - loss: 0.4566 - accuracy: 0.9153 - val_loss: 0.2961 - val_accuracy: 0.9544\n",
            "Epoch 4/10\n",
            "1875/1875 [==============================] - 7s 4ms/step - loss: 0.4366 - accuracy: 0.9185 - val_loss: 0.2865 - val_accuracy: 0.9588\n",
            "Epoch 5/10\n",
            "1875/1875 [==============================] - 8s 4ms/step - loss: 0.4244 - accuracy: 0.9206 - val_loss: 0.2751 - val_accuracy: 0.9599\n",
            "Epoch 6/10\n",
            "1875/1875 [==============================] - 7s 4ms/step - loss: 0.4200 - accuracy: 0.9212 - val_loss: 0.2743 - val_accuracy: 0.9610\n",
            "Epoch 7/10\n",
            "1875/1875 [==============================] - 8s 4ms/step - loss: 0.4116 - accuracy: 0.9220 - val_loss: 0.2768 - val_accuracy: 0.9595\n",
            "Epoch 8/10\n",
            "1875/1875 [==============================] - 8s 4ms/step - loss: 0.4134 - accuracy: 0.9234 - val_loss: 0.2750 - val_accuracy: 0.9621\n",
            "Epoch 9/10\n",
            "1875/1875 [==============================] - 7s 4ms/step - loss: 0.4099 - accuracy: 0.9220 - val_loss: 0.2692 - val_accuracy: 0.9611\n",
            "Epoch 10/10\n",
            "1875/1875 [==============================] - 8s 4ms/step - loss: 0.4010 - accuracy: 0.9257 - val_loss: 0.2708 - val_accuracy: 0.9598\n"
          ]
        },
        {
          "output_type": "execute_result",
          "data": {
            "text/plain": [
              "<keras.src.callbacks.History at 0x7b55d88d36d0>"
            ]
          },
          "metadata": {},
          "execution_count": 6
        }
      ]
    },
    {
      "cell_type": "code",
      "source": [
        "# Evaluate the model\n",
        "loss, accuracy = model.evaluate(x_test, y_test)\n",
        "print(f\"Test accuracy: {accuracy}\")"
      ],
      "metadata": {
        "colab": {
          "base_uri": "https://localhost:8080/"
        },
        "id": "ZWNf912tnMn7",
        "outputId": "0e26a25c-1a5d-4b69-c205-39978b529090"
      },
      "execution_count": 7,
      "outputs": [
        {
          "output_type": "stream",
          "name": "stdout",
          "text": [
            "313/313 [==============================] - 1s 2ms/step - loss: 0.2708 - accuracy: 0.9598\n",
            "Test accuracy: 0.9598000049591064\n"
          ]
        }
      ]
    },
    {
      "cell_type": "markdown",
      "source": [
        "Implemention of dropout algorithms in your neural network"
      ],
      "metadata": {
        "id": "CK9nn7dVqG-S"
      }
    },
    {
      "cell_type": "code",
      "source": [
        "# Build the model\n",
        "model = Sequential([\n",
        "    Flatten(input_shape=(784,)),\n",
        "    Dense(128, activation='relu', kernel_regularizer=l2(l2_reg)),\n",
        "    Dropout(0.5),  # First dropout layer with 50% dropout rate\n",
        "    Dense(64, activation='relu', kernel_regularizer=l2(l2_reg)),\n",
        "    Dropout(0.3),  # Second dropout layer with 30% dropout rate\n",
        "    Dense(10, activation='softmax')\n",
        "])"
      ],
      "metadata": {
        "id": "LsSViz1Pnr5W"
      },
      "execution_count": 8,
      "outputs": []
    },
    {
      "cell_type": "code",
      "source": [
        "# Compile the model\n",
        "model.compile(optimizer='adam', loss='sparse_categorical_crossentropy', metrics=['accuracy'])"
      ],
      "metadata": {
        "id": "fZjOOIYMo0Lo"
      },
      "execution_count": 9,
      "outputs": []
    },
    {
      "cell_type": "code",
      "source": [
        "# Train the model\n",
        "model.fit(x_train, y_train, epochs=10, validation_data=(x_test, y_test))"
      ],
      "metadata": {
        "colab": {
          "base_uri": "https://localhost:8080/"
        },
        "id": "wf21hC0epBMo",
        "outputId": "b2373ccf-9478-4311-ce70-829dee0eba10"
      },
      "execution_count": 10,
      "outputs": [
        {
          "output_type": "stream",
          "name": "stdout",
          "text": [
            "Epoch 1/10\n",
            "1875/1875 [==============================] - 8s 4ms/step - loss: 0.6865 - accuracy: 0.8476 - val_loss: 0.3453 - val_accuracy: 0.9475\n",
            "Epoch 2/10\n",
            "1875/1875 [==============================] - 8s 4ms/step - loss: 0.4573 - accuracy: 0.9111 - val_loss: 0.3007 - val_accuracy: 0.9564\n",
            "Epoch 3/10\n",
            "1875/1875 [==============================] - 8s 4ms/step - loss: 0.4139 - accuracy: 0.9202 - val_loss: 0.2937 - val_accuracy: 0.9543\n",
            "Epoch 4/10\n",
            "1875/1875 [==============================] - 7s 4ms/step - loss: 0.3905 - accuracy: 0.9263 - val_loss: 0.2710 - val_accuracy: 0.9599\n",
            "Epoch 5/10\n",
            "1875/1875 [==============================] - 8s 4ms/step - loss: 0.3800 - accuracy: 0.9268 - val_loss: 0.2713 - val_accuracy: 0.9583\n",
            "Epoch 6/10\n",
            "1875/1875 [==============================] - 7s 4ms/step - loss: 0.3740 - accuracy: 0.9287 - val_loss: 0.2560 - val_accuracy: 0.9637\n",
            "Epoch 7/10\n",
            "1875/1875 [==============================] - 7s 4ms/step - loss: 0.3668 - accuracy: 0.9303 - val_loss: 0.2530 - val_accuracy: 0.9648\n",
            "Epoch 8/10\n",
            "1875/1875 [==============================] - 7s 4ms/step - loss: 0.3630 - accuracy: 0.9306 - val_loss: 0.2485 - val_accuracy: 0.9655\n",
            "Epoch 9/10\n",
            "1875/1875 [==============================] - 7s 4ms/step - loss: 0.3625 - accuracy: 0.9317 - val_loss: 0.2557 - val_accuracy: 0.9623\n",
            "Epoch 10/10\n",
            "1875/1875 [==============================] - 8s 4ms/step - loss: 0.3617 - accuracy: 0.9318 - val_loss: 0.2515 - val_accuracy: 0.9643\n"
          ]
        },
        {
          "output_type": "execute_result",
          "data": {
            "text/plain": [
              "<keras.src.callbacks.History at 0x7b55adc66080>"
            ]
          },
          "metadata": {},
          "execution_count": 10
        }
      ]
    },
    {
      "cell_type": "code",
      "source": [
        "# Evaluate the model\n",
        "loss, accuracy = model.evaluate(x_test, y_test)\n",
        "print(f\"Test accuracy: {accuracy}\")"
      ],
      "metadata": {
        "colab": {
          "base_uri": "https://localhost:8080/"
        },
        "id": "cYkbI-bPpE-T",
        "outputId": "0fb06f7f-e483-4963-db23-b9fd0a2d2b6a"
      },
      "execution_count": 11,
      "outputs": [
        {
          "output_type": "stream",
          "name": "stdout",
          "text": [
            "313/313 [==============================] - 1s 3ms/step - loss: 0.2515 - accuracy: 0.9643\n",
            "Test accuracy: 0.9642999768257141\n"
          ]
        }
      ]
    }
  ]
}